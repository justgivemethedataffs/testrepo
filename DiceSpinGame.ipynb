{
 "cells": [
  {
   "cell_type": "markdown",
   "id": "2edeed06-b038-4c4f-8c4c-b3ba2427897c",
   "metadata": {},
   "source": [
    "# Dice Spin Game #"
   ]
  },
  {
   "cell_type": "markdown",
   "id": "50275ed3-05b7-4469-a771-a3d37e74474f",
   "metadata": {},
   "source": [
    "The code replicates a 6 sided dice. The front, left and top faces of the die from the perspective of the player must be input as integer values from 1-6. The player can then input a list of instructions for the directions that the die is spun. Option for instructions include: R L U D (right, left, up, down). The output contains the new values for the front, left and top faces of the die. There is no limit on the number of instructions that can be used as input. Each instructions must be separated with a space. "
   ]
  },
  {
   "cell_type": "code",
   "execution_count": null,
   "id": "5c091526-b33a-42ae-be67-e80105ad48af",
   "metadata": {},
   "outputs": [],
   "source": [
    "f = int(input(\"Enter front dice face value: \"))\n",
    "l = int(input(\"Enter left dice face value: \"))\n",
    "t = int(input(\"Enter top dice face value: \"))\n",
    "i = input(\"Enter list of rotation instructions separated by space e.g. R L U D:\")\n",
    "\n",
    "list1 = i.split()\n",
    "\n",
    "def spin(f,l,t,i):\n",
    "    if i == 'R':\n",
    "        print(\"FrontFace =\",l),\n",
    "    elif i == 'L':\n",
    "        print(\"FrontFace =\",7-l),\n",
    "    elif i == 'U':\n",
    "        print(\"FrontFace =\",7-t),\n",
    "    elif i == 'D':\n",
    "        print(\"FrontFace =\",t),\n",
    "\n",
    "\n",
    "        \n",
    "for i in list1:\n",
    "    spin(f,l,t,i)\n",
    "    if   i == 'R':\n",
    "        f, l, t = l, 7-f, t,\n",
    "    elif i == 'L':\n",
    "        f, l, t = 7-l, f, t,\n",
    "    elif i == 'U':\n",
    "        f, l, t = 7-t, l, f, \n",
    "    elif i == 'D':\n",
    "        f, l, t = t, l, 7-f"
   ]
  }
 ],
 "metadata": {
  "kernelspec": {
   "display_name": "Python",
   "language": "python",
   "name": "conda-env-python-py"
  },
  "language_info": {
   "codemirror_mode": {
    "name": "ipython",
    "version": 3
   },
   "file_extension": ".py",
   "mimetype": "text/x-python",
   "name": "python",
   "nbconvert_exporter": "python",
   "pygments_lexer": "ipython3",
   "version": "3.7.12"
  }
 },
 "nbformat": 4,
 "nbformat_minor": 5
}
